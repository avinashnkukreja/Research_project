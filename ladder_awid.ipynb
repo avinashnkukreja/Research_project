{
 "cells": [
  {
   "cell_type": "code",
   "execution_count": 42,
   "metadata": {},
   "outputs": [],
   "source": [
    "from keras.datasets import mnist\n",
    "import keras\n",
    "import random\n",
    "from sklearn.metrics import accuracy_score\n",
    "import numpy as np\n",
    "import pickle\n",
    "\n",
    "from ladder_net import get_ladder_network_fc"
   ]
  },
  {
   "cell_type": "code",
   "execution_count": 43,
   "metadata": {},
   "outputs": [
    {
     "name": "stdout",
     "output_type": "stream",
     "text": [
      "(1339406,)\n",
      "(389185,)\n"
     ]
    }
   ],
   "source": [
    "with open('train.pk', 'rb') as f:\n",
    "    x_train,y_train = pickle.load(f)\n",
    "with open('test.pk', 'rb') as f:\n",
    "    X_test,y_test = pickle.load(f)\n",
    "    \n",
    "print(y_train.shape)\n",
    "print(y_test.shape)"
   ]
  },
  {
   "cell_type": "code",
   "execution_count": 44,
   "metadata": {},
   "outputs": [],
   "source": [
    "# get the dataset\n",
    "inp_size = 74 # size of mnist dataset \n",
    "n_classes = 4\n",
    "#(x_train, y_train), (x_test, y_test) = mnist.load_data()\n",
    "\n",
    "\n",
    "#x_train = x_train.astype('float32')/255\n",
    "#x_test  = x_test.astype('float32')/255"
   ]
  },
  {
   "cell_type": "code",
   "execution_count": 45,
   "metadata": {},
   "outputs": [
    {
     "name": "stdout",
     "output_type": "stream",
     "text": [
      "(1339406, 4)\n",
      "(389185, 4)\n"
     ]
    }
   ],
   "source": [
    "from sklearn.preprocessing import LabelEncoder\n",
    "from sklearn.preprocessing import LabelBinarizer\n",
    "\n",
    "encoder = LabelEncoder()\n",
    "encoded_y = encoder.fit_transform(y_train)\n",
    "binarizer = LabelBinarizer()\n",
    "bin_y_train = binarizer.fit_transform(encoded_y)\n",
    "print(bin_y_train.shape)\n",
    "y = keras.utils.to_categorical(encoded_y)\n",
    "\n",
    "encoded_y = encoder.fit_transform(y_test)\n",
    "encoded_y_test = encoder.transform(y_test)\n",
    "bin_y_test = binarizer.fit_transform(encoded_y)\n",
    "print(bin_y_test.shape)"
   ]
  },
  {
   "cell_type": "code",
   "execution_count": 46,
   "metadata": {},
   "outputs": [
    {
     "name": "stdout",
     "output_type": "stream",
     "text": [
      "(1339406, 74)\n",
      "(1339406, 4)\n",
      "(389185, 74)\n",
      "(389185, 4)\n"
     ]
    }
   ],
   "source": [
    "y_test = keras.utils.to_categorical(encoded_y_test)\n",
    "print(x_train.shape)\n",
    "print(y.shape)\n",
    "print(X_test.shape)\n",
    "print(y_test.shape)"
   ]
  },
  {
   "cell_type": "code",
   "execution_count": 47,
   "metadata": {},
   "outputs": [
    {
     "name": "stdout",
     "output_type": "stream",
     "text": [
      "Epoch 1/1\n",
      "1339406/1339406 [==============================] - 2429s 2ms/step - loss: nan - acc: 0.0362 - den_loss: nan\n",
      "Test accuracy : 0.015774\n",
      "Epoch 1/1\n",
      "1339406/1339406 [==============================] - 2309s 2ms/step - loss: nan - acc: 0.0362 - den_loss: nan\n",
      "Test accuracy : 0.015774\n",
      "Epoch 1/1\n",
      "1339406/1339406 [==============================] - 2411s 2ms/step - loss: nan - acc: 0.0362 - den_loss: nan\n",
      "Test accuracy : 0.015774\n",
      "Epoch 1/1\n",
      "1339406/1339406 [==============================] - 2414s 2ms/step - loss: nan - acc: 0.0362 - den_loss: nan\n",
      "Test accuracy : 0.015774\n",
      "Epoch 1/1\n",
      "1339406/1339406 [==============================] - 2411s 2ms/step - loss: nan - acc: 0.0362 - den_loss: nan\n",
      "Test accuracy : 0.015774\n",
      "Epoch 1/1\n",
      "1339406/1339406 [==============================] - 2427s 2ms/step - loss: nan - acc: 0.0362 - den_loss: nan\n",
      "Test accuracy : 0.015774\n",
      "Epoch 1/1\n",
      "1339406/1339406 [==============================] - 2422s 2ms/step - loss: nan - acc: 0.0362 - den_loss: nan\n",
      "Test accuracy : 0.015774\n",
      "Epoch 1/1\n",
      "1339406/1339406 [==============================] - 2401s 2ms/step - loss: nan - acc: 0.0362 - den_loss: nan\n",
      "Test accuracy : 0.015774\n",
      "Epoch 1/1\n",
      "1339406/1339406 [==============================] - 2420s 2ms/step - loss: nan - acc: 0.0362 - den_loss: nan\n",
      "Test accuracy : 0.015774\n",
      "Epoch 1/1\n",
      "1339406/1339406 [==============================] - 2430s 2ms/step - loss: nan - acc: 0.0362 - den_loss: nan\n",
      "Test accuracy : 0.015774\n",
      "Epoch 1/1\n",
      "1339406/1339406 [==============================] - 2451s 2ms/step - loss: nan - acc: 0.0362 - den_loss: nan\n",
      "Test accuracy : 0.015774\n",
      "Epoch 1/1\n",
      "1339406/1339406 [==============================] - 2472s 2ms/step - loss: nan - acc: 0.0362 - den_loss: nan\n",
      "Test accuracy : 0.015774\n",
      "Epoch 1/1\n",
      "1339406/1339406 [==============================] - 2494s 2ms/step - loss: nan - acc: 0.0362 - den_loss: nan\n",
      "Test accuracy : 0.015774\n",
      "Epoch 1/1\n",
      "1339406/1339406 [==============================] - 2487s 2ms/step - loss: nan - acc: 0.0362 - den_loss: nan\n",
      "Test accuracy : 0.015774\n",
      "Epoch 1/1\n",
      "1339406/1339406 [==============================] - 2770s 2ms/step - loss: nan - acc: 0.0362 - den_loss: nan\n",
      "Test accuracy : 0.015774\n",
      "Epoch 1/1\n",
      "1339406/1339406 [==============================] - 3720s 3ms/step - loss: nan - acc: 0.0362 - den_loss: nan\n",
      "Test accuracy : 0.015774\n",
      "Epoch 1/1\n",
      "1339406/1339406 [==============================] - 23901s 18ms/step - loss: nan - acc: 0.0362 - den_loss: nan\n",
      "Test accuracy : 0.015774\n",
      "Epoch 1/1\n",
      "1339406/1339406 [==============================] - 2491s 2ms/step - loss: nan - acc: 0.0362 - den_loss: nan\n",
      "Test accuracy : 0.015774\n",
      "Epoch 1/1\n",
      "1339406/1339406 [==============================] - 6156s 5ms/step - loss: nan - acc: 0.0362 - den_loss: nan\n",
      "Test accuracy : 0.015774\n",
      "Epoch 1/1\n",
      "1339406/1339406 [==============================] - 2409s 2ms/step - loss: nan - acc: 0.0362 - den_loss: nan\n",
      "Test accuracy : 0.015774\n"
     ]
    }
   ],
   "source": [
    "#x_train=x_train[:10000]\n",
    "#y=y[:10000]\n",
    "\n",
    "# initialize the model \n",
    "model = get_ladder_network_fc(layer_sizes=[inp_size, 1000, 500, 250, 250, 250, n_classes])\n",
    "\n",
    "# train the model for 100 epochs\n",
    "for _ in range(20):\n",
    "    model.fit([x_train, x_train], y, epochs=1)\n",
    "    y_test_pr = model.test_model.predict(X_test.values)\n",
    "    print(\"Test accuracy : %f\" % accuracy_score(y_test.argmax(-1), y_test_pr.argmax(-1)))"
   ]
  },
  {
   "cell_type": "code",
   "execution_count": null,
   "metadata": {},
   "outputs": [],
   "source": []
  }
 ],
 "metadata": {
  "kernelspec": {
   "display_name": "Python 3",
   "language": "python",
   "name": "python3"
  },
  "language_info": {
   "codemirror_mode": {
    "name": "ipython",
    "version": 3
   },
   "file_extension": ".py",
   "mimetype": "text/x-python",
   "name": "python",
   "nbconvert_exporter": "python",
   "pygments_lexer": "ipython3",
   "version": "3.7.3"
  }
 },
 "nbformat": 4,
 "nbformat_minor": 2
}
