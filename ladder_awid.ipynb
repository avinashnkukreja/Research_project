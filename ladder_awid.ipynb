{
 "cells": [
  {
   "cell_type": "code",
   "execution_count": 45,
   "metadata": {},
   "outputs": [],
   "source": [
    "from keras.datasets import mnist\n",
    "import keras\n",
    "import random\n",
    "from sklearn.metrics import accuracy_score\n",
    "import numpy as np\n",
    "import pickle\n",
    "from imblearn.datasets import make_imbalance\n",
    "\n",
    "from ladder_net import get_ladder_network_fc"
   ]
  },
  {
   "cell_type": "code",
   "execution_count": 48,
   "metadata": {},
   "outputs": [
    {
     "name": "stdout",
     "output_type": "stream",
     "text": [
      "(389185,)\n"
     ]
    }
   ],
   "source": [
    "with open('train.pk', 'rb') as f:\n",
    "    X,Y = pickle.load(f)\n",
    "with open('test.pk', 'rb') as f:\n",
    "    X_test,y_test = pickle.load(f)\n",
    "#x_train=X[:10000]    \n",
    "#y_train=Y[:10000]\n",
    "X_train, y_train = make_imbalance(X, Y, sampling_strategy={'normal':10000, 'injection':10000, 'impersonation':10000, 'flooding':10000},random_state=0)\n",
    "#X_test, y_test = make_imbalance(x_test, Y_test, sampling_strategy={'normal':4000, 'injection':4000, 'impersonation':4000, 'flooding':4000},random_state=0)\n",
    "#X_test=X_test[:150000]\n",
    "#y_test=y_test[:150000]\n",
    "print(y_test.shape)"
   ]
  },
  {
   "cell_type": "code",
   "execution_count": 49,
   "metadata": {},
   "outputs": [],
   "source": [
    "# get the dataset\n",
    "inp_size = 74 # size of mnist dataset \n",
    "n_classes = 4\n",
    "#(x_train, y_train), (x_test, y_test) = mnist.load_data()\n",
    "\n",
    "\n",
    "#x_train = x_train.astype('float32')/255\n",
    "#x_test  = x_test.astype('float32')/255"
   ]
  },
  {
   "cell_type": "code",
   "execution_count": 50,
   "metadata": {},
   "outputs": [],
   "source": [
    "#from sklearn.preprocessing import LabelEncoder\n",
    "#from sklearn.preprocessing import LabelBinarizer\n",
    "\n",
    "#encoder = LabelEncoder()\n",
    "#binarizer = LabelBinarizer()\n",
    "\n",
    "#encoded_y = encoder.fit_transform(y_train)\n",
    "#bin_y_train = binarizer.fit_transform(encoded_y)\n",
    "#print(bin_y_train.shape)\n",
    "#y = keras.utils.to_categorical(encoded_y)\n",
    "\n",
    "#encoded_y = encoder.fit_transform(y_test)\n",
    "#encoded_y_test = encoder.transform(y_test)\n",
    "#bin_y_test = binarizer.fit_transform(encoded_y)\n",
    "#print(bin_y_test.shape)\n",
    "#y_test = keras.utils.to_categorical(encoded_y_test)"
   ]
  },
  {
   "cell_type": "code",
   "execution_count": 51,
   "metadata": {},
   "outputs": [],
   "source": [
    "from sklearn.preprocessing import LabelEncoder\n",
    "from sklearn.preprocessing import LabelBinarizer\n",
    "\n",
    "encoder = LabelEncoder()\n",
    "encoded_y = encoder.fit_transform(y_train)\n",
    "\n",
    "binarizer = LabelBinarizer()\n",
    "binarized_y = binarizer.fit_transform(encoded_y)\n",
    "binarized_y.shape\n",
    "\n",
    "encoded_y_test = encoder.transform(y_test)\n",
    "\n",
    "y = keras.utils.to_categorical(encoded_y)\n",
    "y_test = keras.utils.to_categorical(encoded_y_test)"
   ]
  },
  {
   "cell_type": "code",
   "execution_count": 52,
   "metadata": {},
   "outputs": [
    {
     "name": "stdout",
     "output_type": "stream",
     "text": [
      "(389185,)\n",
      "(40000,)\n",
      "(40000, 74)\n",
      "(40000, 4)\n",
      "(389185, 74)\n",
      "(389185, 4)\n"
     ]
    }
   ],
   "source": [
    "print(encoded_y_test.shape)\n",
    "print(encoded_y.shape)\n",
    "\n",
    "print(x_train.shape)\n",
    "print(y.shape)\n",
    "print(X_test.shape)\n",
    "print(y_test.shape)"
   ]
  },
  {
   "cell_type": "code",
   "execution_count": 53,
   "metadata": {},
   "outputs": [],
   "source": [
    "#x_train=x_train[:10000]\n",
    "#y=y[:10000]\n",
    "#X_test_scaled=scaler.transform(X_test)\n",
    "# initialize the model \n",
    "model = get_ladder_network_fc(layer_sizes=[inp_size, 1000, 500, 250, 250, 250, n_classes])\n",
    "\n",
    "# train the model for 100 epochs\n",
    "#for _ in range(20):\n",
    "#    model.fit([x_train, x_train], y, epochs=1)\n",
    "#    y_test_pr = model.test_model.predict(X_test)\n",
    "#    print(\"Test accuracy : %f\" % accuracy_score(y_test.argmax(-1), y_test_pr.argmax(-1)))"
   ]
  },
  {
   "cell_type": "code",
   "execution_count": 54,
   "metadata": {},
   "outputs": [
    {
     "name": "stdout",
     "output_type": "stream",
     "text": [
      "Epoch 1/10\n",
      "40000/40000 [==============================] - 80s 2ms/step - loss: nan - acc: 0.2502 - den_loss: nan\n",
      "Epoch 2/10\n",
      "40000/40000 [==============================] - 69s 2ms/step - loss: nan - acc: 0.2500 - den_loss: nan\n",
      "Epoch 3/10\n",
      "40000/40000 [==============================] - 71s 2ms/step - loss: nan - acc: 0.2500 - den_loss: nan\n",
      "Epoch 4/10\n",
      "40000/40000 [==============================] - 68s 2ms/step - loss: nan - acc: 0.2500 - den_loss: nan\n",
      "Epoch 5/10\n",
      "40000/40000 [==============================] - 73s 2ms/step - loss: nan - acc: 0.2500 - den_loss: nan\n",
      "Epoch 6/10\n",
      "40000/40000 [==============================] - 73s 2ms/step - loss: nan - acc: 0.2500 - den_loss: nan\n",
      "Epoch 7/10\n",
      "40000/40000 [==============================] - 70s 2ms/step - loss: nan - acc: 0.2500 - den_loss: nan\n",
      "Epoch 8/10\n",
      "40000/40000 [==============================] - 75s 2ms/step - loss: nan - acc: 0.2500 - den_loss: nan\n",
      "Epoch 9/10\n",
      "40000/40000 [==============================] - 73s 2ms/step - loss: nan - acc: 0.2500 - den_loss: nan\n",
      "Epoch 10/10\n",
      "40000/40000 [==============================] - 74s 2ms/step - loss: nan - acc: 0.2500 - den_loss: nan\n"
     ]
    },
    {
     "data": {
      "text/plain": [
       "<keras.callbacks.History at 0x1a5c2306a0>"
      ]
     },
     "execution_count": 54,
     "metadata": {},
     "output_type": "execute_result"
    }
   ],
   "source": [
    "model.fit([x_train, x_train], y, epochs=10)"
   ]
  },
  {
   "cell_type": "code",
   "execution_count": 60,
   "metadata": {},
   "outputs": [],
   "source": [
    "y_test_pr = model.test_model.predict(X_test.values, batch_size=2048)\n"
   ]
  },
  {
   "cell_type": "code",
   "execution_count": 62,
   "metadata": {},
   "outputs": [
    {
     "data": {
      "text/plain": [
       "(389185, 4)"
      ]
     },
     "execution_count": 62,
     "metadata": {},
     "output_type": "execute_result"
    }
   ],
   "source": [
    "y_test_pr.shape"
   ]
  },
  {
   "cell_type": "code",
   "execution_count": 64,
   "metadata": {},
   "outputs": [
    {
     "name": "stdout",
     "output_type": "stream",
     "text": [
      "Test accuracy : 0.015774\n"
     ]
    }
   ],
   "source": [
    "print(\"Test accuracy : %f\" % accuracy_score(y_test_pr.argmax(-1), encoded_y_test))"
   ]
  },
  {
   "cell_type": "code",
   "execution_count": 36,
   "metadata": {},
   "outputs": [
    {
     "ename": "NameError",
     "evalue": "name 'confusion_matrix' is not defined",
     "output_type": "error",
     "traceback": [
      "\u001b[0;31m---------------------------------------------------------------------------\u001b[0m",
      "\u001b[0;31mNameError\u001b[0m                                 Traceback (most recent call last)",
      "\u001b[0;32m<ipython-input-36-0a0693014d6a>\u001b[0m in \u001b[0;36m<module>\u001b[0;34m\u001b[0m\n\u001b[0;32m----> 1\u001b[0;31m \u001b[0mconfusion_matrix\u001b[0m\u001b[0;34m(\u001b[0m\u001b[0mynew\u001b[0m\u001b[0;34m,\u001b[0m \u001b[0mencoded_y_test\u001b[0m\u001b[0;34m)\u001b[0m\u001b[0;34m\u001b[0m\u001b[0;34m\u001b[0m\u001b[0m\n\u001b[0m",
      "\u001b[0;31mNameError\u001b[0m: name 'confusion_matrix' is not defined"
     ]
    }
   ],
   "source": []
  },
  {
   "cell_type": "code",
   "execution_count": 37,
   "metadata": {},
   "outputs": [],
   "source": [
    "from sklearn.metrics import accuracy_score,  confusion_matrix"
   ]
  },
  {
   "cell_type": "code",
   "execution_count": 67,
   "metadata": {},
   "outputs": [
    {
     "data": {
      "text/plain": [
       "array([[  6139,  20079,  16682, 346285],\n",
       "       [     0,      0,      0,      0],\n",
       "       [     0,      0,      0,      0],\n",
       "       [     0,      0,      0,      0]])"
      ]
     },
     "execution_count": 67,
     "metadata": {},
     "output_type": "execute_result"
    }
   ],
   "source": [
    "confusion_matrix(y_test_pr.argmax(-1), encoded_y_test)"
   ]
  },
  {
   "cell_type": "code",
   "execution_count": null,
   "metadata": {},
   "outputs": [],
   "source": []
  }
 ],
 "metadata": {
  "kernelspec": {
   "display_name": "Python 3",
   "language": "python",
   "name": "python3"
  },
  "language_info": {
   "codemirror_mode": {
    "name": "ipython",
    "version": 3
   },
   "file_extension": ".py",
   "mimetype": "text/x-python",
   "name": "python",
   "nbconvert_exporter": "python",
   "pygments_lexer": "ipython3",
   "version": "3.7.3"
  }
 },
 "nbformat": 4,
 "nbformat_minor": 2
}
